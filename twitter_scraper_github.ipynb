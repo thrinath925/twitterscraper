{
 "cells": [
  {
   "cell_type": "code",
   "execution_count": null,
   "id": "d2f21166",
   "metadata": {},
   "outputs": [],
   "source": [
    "# use only Jupyter notebook like interface to run code cell by cell....\n",
    "#Note:- Tweeter often changes the Xpaths soo if the script is not working try to find correct xpaths \n",
    "# make sure about good internet conncetion \n",
    "\n",
    "\n",
    "from selenium.webdriver.common.keys import Keys\n",
    "from selenium.webdriver.common.by import By\n",
    "from selenium.webdriver.support.ui import WebDriverWait\n",
    "from selenium.webdriver.support import expected_conditions\n",
    "from selenium.common import exceptions\n",
    "from selenium import webdriver\n",
    "import time \n",
    "from datetime import datetime\n",
    "import sqlite3\n"
   ]
  },
  {
   "cell_type": "code",
   "execution_count": null,
   "id": "48c3af8c",
   "metadata": {
    "scrolled": false
   },
   "outputs": [],
   "source": [
    "browser = webdriver.Firefox(executable_path='/home/tesla/Desktop/tweeter/geckodriver')\n",
    "time.sleep(3)# wait untill browser loads"
   ]
  },
  {
   "cell_type": "code",
   "execution_count": null,
   "id": "912f2760",
   "metadata": {},
   "outputs": [],
   "source": [
    "url = 'https://twitter.com/'\n",
    "browser.get(url)\n",
    "time.sleep(2)#wait untill url loads\n",
    "#login to your twitter account if you want \n",
    "# go to twitter search field.. type your keyword click enter\n",
    "# you will have different options like Top Latest People Photos videos \n",
    "#click on your Desire option then copy the URL from URL bar\n",
    "# Assign it to below Url Varibale"
   ]
  },
  {
   "cell_type": "code",
   "execution_count": null,
   "id": "ca535da3",
   "metadata": {},
   "outputs": [],
   "source": [
    "url = 'https://twitter.com/search?q=%23ClimateActionNow&src=trend_click&f=live&vertical=trends'#direct url of  your Keyword\n",
    "browser.get(url)\n",
    "time.sleep(2)#wait untill url loads\n",
    "\n",
    "#connecting to Database\n",
    "con = sqlite3.connect('example.db')# change database name to Your wish \n",
    "cur = con.cursor()\n",
    "\n",
    "# Create table\n",
    "cur.execute('''CREATE TABLE tweets(userid,date,tweet_content)''')\n"
   ]
  },
  {
   "cell_type": "code",
   "execution_count": null,
   "id": "5bf0dc9e",
   "metadata": {},
   "outputs": [],
   "source": [
    "def scraper(card):\n",
    "    \n",
    "    if 1==1:\n",
    "        username = card.find_elements_by_xpath('.//span')#find user name by Xpath\n",
    "        username = username[0].text\n",
    "\n",
    "        user_id = card.find_elements_by_xpath('.//span[contains(text(),\"@\")]')\n",
    "        user_id = user_id[0].text\n",
    "        try:\n",
    "\n",
    "            date_time = card.find_elements_by_xpath('.//time')\n",
    "            date_time = date_time[0].get_attribute('datetime')\n",
    "            date_time = date_time.replace(\"T\",\" \")\n",
    "            date_time = date_time.replace(\".\",\":\")\n",
    "            date_time = date_time.replace(\"Z\",\"\")\n",
    "            date_time = datetime.fromisoformat(date_time)\n",
    "        except:\n",
    "            date_time = \"sponsader tweet\"# for sponsader tweets date appear\n",
    "\n",
    "        tweet_content = card.find_element_by_xpath('.//div/div/div/div[2]/div[2]/div[2]/div[1]/div')\n",
    "        tweet_content = tweet_content.text\n",
    "\n",
    "        responding_to = card.find_element_by_xpath('.//div[1]/div[1]/div[1]/div[2]/div[2]/div[2]/div[2]').text\n",
    "\n",
    "        # Insert a row of data\n",
    "        cur.execute(\"INSERT INTO tweets values (?, ?,?)\", (user_id,date_time,tweet_content))\n",
    "        \n",
    "        # Save (commit) the changes\n",
    "        con.commit()\n",
    "        \n",
    "        print(user_id,\"             \",date_time)\n",
    "\n",
    "        print('\\n')\n",
    "        \n",
    "        print(tweet_content)\n",
    "        \n",
    "        print('\\n')\n",
    "\n",
    "        print(responding_to)\n",
    "        \n",
    "        return user_id\n",
    "\n",
    "    \n",
    "\n",
    "\n"
   ]
  },
  {
   "cell_type": "code",
   "execution_count": null,
   "id": "637081ff",
   "metadata": {
    "scrolled": true
   },
   "outputs": [],
   "source": [
    "\n",
    "while True:\n",
    "    cards = browser.find_elements_by_xpath('//article[@data-testid=\"tweet\"]')# initilization of tweet body\n",
    "    try:\n",
    "        for card in cards:\n",
    "            \n",
    "            scraper(card)#function calling\n",
    "            time.sleep(1)\n",
    "            \n",
    "    except Exception as error:\n",
    "        print(error)\n",
    "        print('\\n')\n",
    "        print(\"The above error may arise Due to the slow internet and slow loding of twitter just wait for for a minute\")\n",
    "        exit = str(input(\"Enetr y to exit n to Continue\"))\n",
    "        if exit==\"y\":\n",
    "            break\n",
    "        time.sleep(4)\n",
    "   \n",
    "    \n",
    "    for i in range(9): # adjust integer value for need\n",
    "       # you can change right side number for scroll convenience or destination \n",
    "       browser.execute_script(\"window.scrollBy(0, 250)\")\n",
    "       # you can change time intervels between very scrolling\n",
    "       time.sleep(1)\n",
    "\n",
    "#Note:-the tweets You may got have 50% duplication this is bcoz page scrolling.. you can adjuest it by chnage the range in for loop but it better to leave as it as.. But you can use database manuplutions commands after your completion of program. \n"
   ]
  },
  {
   "cell_type": "code",
   "execution_count": null,
   "id": "3f8babed",
   "metadata": {},
   "outputs": [],
   "source": [
    "# total tweets scraped in 79 Miniuts is 1648 and total uniqu tweets are 1087 from 1648"
   ]
  }
 ],
 "metadata": {
  "kernelspec": {
   "display_name": "Python 3 (ipykernel)",
   "language": "python",
   "name": "python3"
  },
  "language_info": {
   "codemirror_mode": {
    "name": "ipython",
    "version": 3
   },
   "file_extension": ".py",
   "mimetype": "text/x-python",
   "name": "python",
   "nbconvert_exporter": "python",
   "pygments_lexer": "ipython3",
   "version": "3.9.2"
  }
 },
 "nbformat": 4,
 "nbformat_minor": 5
}
